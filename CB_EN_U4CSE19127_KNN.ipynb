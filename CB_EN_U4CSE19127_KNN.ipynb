{
  "nbformat": 4,
  "nbformat_minor": 0,
  "metadata": {
    "colab": {
      "name": "CB.EN.U4CSE19127_KNN.ipynb",
      "provenance": [],
      "collapsed_sections": [],
      "authorship_tag": "ABX9TyMHej8wQKZAJy2tVc1asFjP",
      "include_colab_link": true
    },
    "kernelspec": {
      "name": "python3",
      "display_name": "Python 3"
    },
    "language_info": {
      "name": "python"
    }
  },
  "cells": [
    {
      "cell_type": "markdown",
      "metadata": {
        "id": "view-in-github",
        "colab_type": "text"
      },
      "source": [
        "<a href=\"https://colab.research.google.com/github/M2kishore/Machine-Learning/blob/main/CB_EN_U4CSE19127_KNN.ipynb\" target=\"_parent\"><img src=\"https://colab.research.google.com/assets/colab-badge.svg\" alt=\"Open In Colab\"/></a>"
      ]
    },
    {
      "cell_type": "code",
      "metadata": {
        "id": "lGYZbbp3_FLi"
      },
      "source": [
        "import numpy as np\n",
        "import pandas as pd"
      ],
      "execution_count": 1,
      "outputs": []
    },
    {
      "cell_type": "code",
      "metadata": {
        "id": "6zbjbfCr_hOX"
      },
      "source": [
        "height = [65.78,\n",
        "71.52,\n",
        "69.40,\n",
        "68.22,\n",
        "67.79,\n",
        "68.70,\n",
        "69.80,\n",
        "70.01,\n",
        "67.90,\n",
        "66.78,\n",
        "66.49,\n",
        "67.62,\n",
        "68.30,\n",
        "67.12,\n",
        "68.28]"
      ],
      "execution_count": 27,
      "outputs": []
    },
    {
      "cell_type": "code",
      "metadata": {
        "id": "nGQfMvrFAM1s"
      },
      "source": [
        "weight = [112.99,\n",
        "136.49,\n",
        "153.03,\n",
        "142.34,\n",
        "144.30,\n",
        "123.30,\n",
        "141.49,\n",
        "136.46,\n",
        "112.37,\n",
        "120.67,\n",
        "127.45,\n",
        "114.14,\n",
        "125.61,\n",
        "122.46,\n",
        "116.09]"
      ],
      "execution_count": 5,
      "outputs": []
    },
    {
      "cell_type": "markdown",
      "metadata": {
        "id": "Q1Ioacrg__mn"
      },
      "source": [
        "68.22\n",
        "67.79\n",
        "68.70\n",
        "69.80\n",
        "70 01\n",
        "67.90\n",
        "66.78\n",
        "66.49\n",
        "67.62\n",
        "68.30\n",
        "67.12\n",
        "68.28"
      ]
    },
    {
      "cell_type": "code",
      "metadata": {
        "id": "YCIlXR8PBxZP"
      },
      "source": [
        "df = pd.DataFrame(height, columns = ['height'])"
      ],
      "execution_count": 15,
      "outputs": []
    },
    {
      "cell_type": "code",
      "metadata": {
        "id": "nPQmBd5TCa1E"
      },
      "source": [
        "df[\"weight\"] = weight"
      ],
      "execution_count": 16,
      "outputs": []
    },
    {
      "cell_type": "code",
      "metadata": {
        "colab": {
          "base_uri": "https://localhost:8080/",
          "height": 520
        },
        "id": "miWxPGaWCfG4",
        "outputId": "afc8d95a-50eb-43e5-dfc7-6862554c38c8"
      },
      "source": [
        "df"
      ],
      "execution_count": 17,
      "outputs": [
        {
          "output_type": "execute_result",
          "data": {
            "text/html": [
              "<div>\n",
              "<style scoped>\n",
              "    .dataframe tbody tr th:only-of-type {\n",
              "        vertical-align: middle;\n",
              "    }\n",
              "\n",
              "    .dataframe tbody tr th {\n",
              "        vertical-align: top;\n",
              "    }\n",
              "\n",
              "    .dataframe thead th {\n",
              "        text-align: right;\n",
              "    }\n",
              "</style>\n",
              "<table border=\"1\" class=\"dataframe\">\n",
              "  <thead>\n",
              "    <tr style=\"text-align: right;\">\n",
              "      <th></th>\n",
              "      <th>height</th>\n",
              "      <th>weight</th>\n",
              "    </tr>\n",
              "  </thead>\n",
              "  <tbody>\n",
              "    <tr>\n",
              "      <th>0</th>\n",
              "      <td>65.78</td>\n",
              "      <td>112.99</td>\n",
              "    </tr>\n",
              "    <tr>\n",
              "      <th>1</th>\n",
              "      <td>71.52</td>\n",
              "      <td>136.49</td>\n",
              "    </tr>\n",
              "    <tr>\n",
              "      <th>2</th>\n",
              "      <td>69.40</td>\n",
              "      <td>153.03</td>\n",
              "    </tr>\n",
              "    <tr>\n",
              "      <th>3</th>\n",
              "      <td>68.22</td>\n",
              "      <td>142.34</td>\n",
              "    </tr>\n",
              "    <tr>\n",
              "      <th>4</th>\n",
              "      <td>67.79</td>\n",
              "      <td>144.30</td>\n",
              "    </tr>\n",
              "    <tr>\n",
              "      <th>5</th>\n",
              "      <td>68.70</td>\n",
              "      <td>123.30</td>\n",
              "    </tr>\n",
              "    <tr>\n",
              "      <th>6</th>\n",
              "      <td>69.80</td>\n",
              "      <td>141.49</td>\n",
              "    </tr>\n",
              "    <tr>\n",
              "      <th>7</th>\n",
              "      <td>70.01</td>\n",
              "      <td>136.46</td>\n",
              "    </tr>\n",
              "    <tr>\n",
              "      <th>8</th>\n",
              "      <td>67.90</td>\n",
              "      <td>112.37</td>\n",
              "    </tr>\n",
              "    <tr>\n",
              "      <th>9</th>\n",
              "      <td>66.78</td>\n",
              "      <td>120.67</td>\n",
              "    </tr>\n",
              "    <tr>\n",
              "      <th>10</th>\n",
              "      <td>66.49</td>\n",
              "      <td>127.45</td>\n",
              "    </tr>\n",
              "    <tr>\n",
              "      <th>11</th>\n",
              "      <td>67.62</td>\n",
              "      <td>114.14</td>\n",
              "    </tr>\n",
              "    <tr>\n",
              "      <th>12</th>\n",
              "      <td>68.30</td>\n",
              "      <td>125.61</td>\n",
              "    </tr>\n",
              "    <tr>\n",
              "      <th>13</th>\n",
              "      <td>67.12</td>\n",
              "      <td>122.46</td>\n",
              "    </tr>\n",
              "    <tr>\n",
              "      <th>14</th>\n",
              "      <td>68.28</td>\n",
              "      <td>116.09</td>\n",
              "    </tr>\n",
              "  </tbody>\n",
              "</table>\n",
              "</div>"
            ],
            "text/plain": [
              "    height  weight\n",
              "0    65.78  112.99\n",
              "1    71.52  136.49\n",
              "2    69.40  153.03\n",
              "3    68.22  142.34\n",
              "4    67.79  144.30\n",
              "5    68.70  123.30\n",
              "6    69.80  141.49\n",
              "7    70.01  136.46\n",
              "8    67.90  112.37\n",
              "9    66.78  120.67\n",
              "10   66.49  127.45\n",
              "11   67.62  114.14\n",
              "12   68.30  125.61\n",
              "13   67.12  122.46\n",
              "14   68.28  116.09"
            ]
          },
          "metadata": {},
          "execution_count": 17
        }
      ]
    },
    {
      "cell_type": "markdown",
      "metadata": {
        "id": "dXmACYbrCe37"
      },
      "source": [
        ""
      ]
    },
    {
      "cell_type": "code",
      "metadata": {
        "id": "ffIo7PHdAXy2"
      },
      "source": [
        "to_predict = 70.76"
      ],
      "execution_count": 23,
      "outputs": []
    },
    {
      "cell_type": "code",
      "metadata": {
        "colab": {
          "base_uri": "https://localhost:8080/"
        },
        "id": "Ge3VhSlvAe3G",
        "outputId": "52d97c07-419b-41d1-921a-6edaf14a81b2"
      },
      "source": [
        "diff = []\n",
        "for i in height:\n",
        "  print(i)\n",
        "  diff.append(abs(i-to_predict))"
      ],
      "execution_count": 30,
      "outputs": [
        {
          "output_type": "stream",
          "name": "stdout",
          "text": [
            "65.78\n",
            "71.52\n",
            "69.4\n",
            "68.22\n",
            "67.79\n",
            "68.7\n",
            "69.8\n",
            "70.01\n",
            "67.9\n",
            "66.78\n",
            "66.49\n",
            "67.62\n",
            "68.3\n",
            "67.12\n",
            "68.28\n"
          ]
        }
      ]
    },
    {
      "cell_type": "code",
      "metadata": {
        "id": "ffx9d6B4BnL2"
      },
      "source": [
        "df[\"diff\"] = diff\n",
        "df = df.sort_values(by='diff')"
      ],
      "execution_count": 35,
      "outputs": []
    },
    {
      "cell_type": "code",
      "metadata": {
        "colab": {
          "base_uri": "https://localhost:8080/",
          "height": 520
        },
        "id": "a3Y_JZwqDvos",
        "outputId": "1e03ba8d-3279-4d7e-e0d4-f61bdcaff4db"
      },
      "source": [
        "df"
      ],
      "execution_count": 36,
      "outputs": [
        {
          "output_type": "execute_result",
          "data": {
            "text/html": [
              "<div>\n",
              "<style scoped>\n",
              "    .dataframe tbody tr th:only-of-type {\n",
              "        vertical-align: middle;\n",
              "    }\n",
              "\n",
              "    .dataframe tbody tr th {\n",
              "        vertical-align: top;\n",
              "    }\n",
              "\n",
              "    .dataframe thead th {\n",
              "        text-align: right;\n",
              "    }\n",
              "</style>\n",
              "<table border=\"1\" class=\"dataframe\">\n",
              "  <thead>\n",
              "    <tr style=\"text-align: right;\">\n",
              "      <th></th>\n",
              "      <th>height</th>\n",
              "      <th>weight</th>\n",
              "      <th>diff</th>\n",
              "    </tr>\n",
              "  </thead>\n",
              "  <tbody>\n",
              "    <tr>\n",
              "      <th>7</th>\n",
              "      <td>70.01</td>\n",
              "      <td>136.46</td>\n",
              "      <td>0.75</td>\n",
              "    </tr>\n",
              "    <tr>\n",
              "      <th>1</th>\n",
              "      <td>71.52</td>\n",
              "      <td>136.49</td>\n",
              "      <td>0.76</td>\n",
              "    </tr>\n",
              "    <tr>\n",
              "      <th>6</th>\n",
              "      <td>69.80</td>\n",
              "      <td>141.49</td>\n",
              "      <td>0.96</td>\n",
              "    </tr>\n",
              "    <tr>\n",
              "      <th>2</th>\n",
              "      <td>69.40</td>\n",
              "      <td>153.03</td>\n",
              "      <td>1.36</td>\n",
              "    </tr>\n",
              "    <tr>\n",
              "      <th>5</th>\n",
              "      <td>68.70</td>\n",
              "      <td>123.30</td>\n",
              "      <td>2.06</td>\n",
              "    </tr>\n",
              "    <tr>\n",
              "      <th>12</th>\n",
              "      <td>68.30</td>\n",
              "      <td>125.61</td>\n",
              "      <td>2.46</td>\n",
              "    </tr>\n",
              "    <tr>\n",
              "      <th>14</th>\n",
              "      <td>68.28</td>\n",
              "      <td>116.09</td>\n",
              "      <td>2.48</td>\n",
              "    </tr>\n",
              "    <tr>\n",
              "      <th>3</th>\n",
              "      <td>68.22</td>\n",
              "      <td>142.34</td>\n",
              "      <td>2.54</td>\n",
              "    </tr>\n",
              "    <tr>\n",
              "      <th>8</th>\n",
              "      <td>67.90</td>\n",
              "      <td>112.37</td>\n",
              "      <td>2.86</td>\n",
              "    </tr>\n",
              "    <tr>\n",
              "      <th>4</th>\n",
              "      <td>67.79</td>\n",
              "      <td>144.30</td>\n",
              "      <td>2.97</td>\n",
              "    </tr>\n",
              "    <tr>\n",
              "      <th>11</th>\n",
              "      <td>67.62</td>\n",
              "      <td>114.14</td>\n",
              "      <td>3.14</td>\n",
              "    </tr>\n",
              "    <tr>\n",
              "      <th>13</th>\n",
              "      <td>67.12</td>\n",
              "      <td>122.46</td>\n",
              "      <td>3.64</td>\n",
              "    </tr>\n",
              "    <tr>\n",
              "      <th>9</th>\n",
              "      <td>66.78</td>\n",
              "      <td>120.67</td>\n",
              "      <td>3.98</td>\n",
              "    </tr>\n",
              "    <tr>\n",
              "      <th>10</th>\n",
              "      <td>66.49</td>\n",
              "      <td>127.45</td>\n",
              "      <td>4.27</td>\n",
              "    </tr>\n",
              "    <tr>\n",
              "      <th>0</th>\n",
              "      <td>65.78</td>\n",
              "      <td>112.99</td>\n",
              "      <td>4.98</td>\n",
              "    </tr>\n",
              "  </tbody>\n",
              "</table>\n",
              "</div>"
            ],
            "text/plain": [
              "    height  weight  diff\n",
              "7    70.01  136.46  0.75\n",
              "1    71.52  136.49  0.76\n",
              "6    69.80  141.49  0.96\n",
              "2    69.40  153.03  1.36\n",
              "5    68.70  123.30  2.06\n",
              "12   68.30  125.61  2.46\n",
              "14   68.28  116.09  2.48\n",
              "3    68.22  142.34  2.54\n",
              "8    67.90  112.37  2.86\n",
              "4    67.79  144.30  2.97\n",
              "11   67.62  114.14  3.14\n",
              "13   67.12  122.46  3.64\n",
              "9    66.78  120.67  3.98\n",
              "10   66.49  127.45  4.27\n",
              "0    65.78  112.99  4.98"
            ]
          },
          "metadata": {},
          "execution_count": 36
        }
      ]
    },
    {
      "cell_type": "code",
      "metadata": {
        "id": "w3ojURxaEAge"
      },
      "source": [
        "k = 3\n",
        "extract = df[0:k]"
      ],
      "execution_count": 39,
      "outputs": []
    },
    {
      "cell_type": "code",
      "metadata": {
        "colab": {
          "base_uri": "https://localhost:8080/"
        },
        "id": "n6nqDYYSEK_D",
        "outputId": "9bf76faf-e5a0-46bb-863e-0bb64898f03d"
      },
      "source": [
        "extract[\"weight\"].sum()/k\n"
      ],
      "execution_count": 43,
      "outputs": [
        {
          "output_type": "execute_result",
          "data": {
            "text/plain": [
              "138.14666666666668"
            ]
          },
          "metadata": {},
          "execution_count": 43
        }
      ]
    }
  ]
}